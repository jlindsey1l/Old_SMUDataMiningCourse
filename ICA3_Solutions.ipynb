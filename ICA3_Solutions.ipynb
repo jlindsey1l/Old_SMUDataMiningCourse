{
 "cells": [
  {
   "cell_type": "markdown",
   "metadata": {},
   "source": [
    "Enter Team Member Names here (double click to edit):\n",
    "\n",
    "- Name 1:\n",
    "- Name 2:\n",
    "- Name 3:\n",
    "\n",
    "________\n",
    "\n",
    "#In Class Assignment Three\n",
    "In the following assignment you will be asked to fill in python code and derivations for a number of different problems. Please read all instructions carefully and turn in the rendered notebook (or HTML of the rendered notebook) to blackboard before the end of class.\n",
    "\n",
    "**Distance Students**: please finish this assignment in 2 hours and 30 minutes. Turn in before next class per the instructions on blackboard.\n",
    "\n",
    "________________________________________________________________________________________________________\n",
    "\n",
    "## Downloading the Document Data\n",
    "Please run the following code to read in the \"20 newsgroups\" dataset from sklearn's data loading module."
   ]
  },
  {
   "cell_type": "code",
   "execution_count": 1,
   "metadata": {},
   "outputs": [
    {
     "name": "stdout",
     "output_type": "stream",
     "text": [
      "features shape: (11314, 130107)\n",
      "target shape: (11314,)\n",
      "range of target: 0 19\n",
      "Data type is <class 'scipy.sparse.csr.csr_matrix'> 0.121435315436 % of the data is non-zero\n"
     ]
    }
   ],
   "source": [
    "from sklearn.datasets import fetch_20newsgroups_vectorized\n",
    "import numpy as np\n",
    "\n",
    "# this takes about 30 seconds to compute, read the next section while this downloads\n",
    "ds = fetch_20newsgroups_vectorized(subset='train')\n",
    "\n",
    "# this holds the continuous feature data (which is tfidf)\n",
    "print 'features shape:', ds.data.shape # there are ~11000 instances and ~130k features per instance\n",
    "print 'target shape:', ds.target.shape \n",
    "print 'range of target:', np.min(ds.target),np.max(ds.target)\n",
    "print 'Data type is', type(ds.data), float(ds.data.nnz)/(ds.data.shape[0]*ds.data.shape[1])*100, '% of the data is non-zero'"
   ]
  },
  {
   "cell_type": "markdown",
   "metadata": {},
   "source": [
    "## Understanding the Dataset\n",
    "Look at the description for the 20 newsgroups dataset at http://qwone.com/~jason/20Newsgroups/. You have just downloaded the \"vectorized\" version of the dataset, which means all the words inside the articles have gone through a transformation that binned them into 130 thousand features related to the words in them. You can ignore the information on TFIDF-just recognize that it is a means of converting text to a vector of data. \n",
    "\n",
    "**Question Set 1**:\n",
    "- How many instances are in the dataset? \n",
    "- What does each instance represent? \n",
    "- How many classes are in the dataset and what does each class represent?\n",
    "- Would you expect a classifier trained on this data would generalize to documents written in the past week? Why or why not?\n",
    "- Is the data represented as a sparse or dense matrix?"
   ]
  },
  {
   "cell_type": "markdown",
   "metadata": {},
   "source": [
    "___\n",
    "Enter your answer here:\n",
    "\n",
    "*Double click to edit*\n",
    "\n",
    "This is a dataset of news article topics. There are about 11,000 instances, each representing a news article. There are 20 different groups that are labeled in the dataset. The data will be very sparse, with only a small percentage of the data having a numeric value and all others being zero. \n",
    "\n",
    "This data was trained from twenty year old articles so many news topics would not generalize to topics in today's news. In fact, many words like 'facebook', 'twitter', and 'Obama' would not even be present in the existing dataset, but are important for modern topic classifiers to understand. However, some health related topics may still work well--it depends on how much the underlying distribution of words is changing.\n",
    "\n",
    "This data is represented as a sparse matrix, meaning only non-zero values are stored with their matrix location.\n",
    "\n",
    "___"
   ]
  },
  {
   "cell_type": "markdown",
   "metadata": {},
   "source": [
    "## Measures of Distance\n",
    "In the following block of code, we isolate three instances from the dataset. The instanca `a` is from the group computer graphics, `b` is from from the group recreation autos, and `c` is from group recreation motorcycle. **Exercise for part 2**: Calculate the Euclidean distance, cosine distance, and Jaccard similarity between each pair of instances using the imported function below. Remember that the Jaccard distance is only for binary valued vectors, so convert vectors to binary using a threshold. **Question for part 2**: Which distance seems more appropriate to use for this data? Why?"
   ]
  },
  {
   "cell_type": "code",
   "execution_count": 2,
   "metadata": {},
   "outputs": [
    {
     "name": "stdout",
     "output_type": "stream",
     "text": [
      "Instance A is from class comp.graphics\n",
      "Instance B is from class rec.autos\n",
      "Instance C is from class rec.motorcycles\n",
      "Euclidean Distance\n",
      " ab: 1.09851846719 ac: 1.18914054254 bc: 0.917779422666\n",
      "Cosine Distance\n",
      " ab: 0.603371411376 ac: 0.707027614956 bc: 0.421159534335\n",
      "Jaccard Dissimilarity (vectors should be boolean values)\n",
      " ab: 0.882113821138 ac: 0.875471698113 bc: 0.908794788274\n",
      "\n",
      "\n",
      "The most appropraite distance is...\n",
      "Cosine. It clearly delineates between topics effectively. B and C are closest (by far), and A is about the same distance from B and C. Euclidean also works well, but not quite as good as \"cosine\"\n"
     ]
    }
   ],
   "source": [
    "from scipy.spatial.distance import cosine\n",
    "from scipy.spatial.distance import euclidean\n",
    "from scipy.spatial.distance import jaccard\n",
    "import numpy as np\n",
    "\n",
    "# get first instance (comp)\n",
    "idx = 550\n",
    "a = ds.data[idx].todense()\n",
    "a_class = ds.target_names[ds.target[idx]]\n",
    "print 'Instance A is from class', a_class\n",
    "\n",
    "# get second instance (autos)\n",
    "idx = 4000\n",
    "b = ds.data[idx].todense()\n",
    "b_class = ds.target_names[ds.target[idx]]\n",
    "print 'Instance B is from class', b_class\n",
    "\n",
    "# get third instance (motorcycle)\n",
    "idx = 7000\n",
    "c = ds.data[idx].todense()\n",
    "c_class = ds.target_names[ds.target[idx]]\n",
    "print 'Instance C is from class', c_class\n",
    "\n",
    "# Enter distance comparison below for each pair of vectors:\n",
    "print 'Euclidean Distance\\n ab:', euclidean(a,b), 'ac:', euclidean(a,c), 'bc:', euclidean(b,c)\n",
    "print 'Cosine Distance\\n ab:', cosine(a,b), 'ac:', cosine(a,c), 'bc:', cosine(b,c)\n",
    "print 'Jaccard Dissimilarity (vectors should be boolean values)\\n ab:', jaccard(a>0,b>0), 'ac:', jaccard(a>0,c>0), 'bc:', jaccard(b>0,c>0)\n",
    "\n",
    "print '\\n\\nThe most appropraite distance is...' \n",
    "print 'Cosine. It clearly delineates between topics effectively. B and C are closest (by far),',\n",
    "print 'and A is about the same distance from B and C. Euclidean also works well, but not quite as good as \"cosine\"'"
   ]
  },
  {
   "cell_type": "markdown",
   "metadata": {},
   "source": [
    "___\n",
    "## Using scikit-learn with KNN\n",
    "Now let's use stratified cross validation with a holdout set to train a KNN model in `scikit-learn`. Use the example below to train a KNN classifier. The documentation for KNeighbors is here: http://scikit-learn.org/stable/modules/generated/sklearn.neighbors.KNeighborsClassifier.html  \n",
    "\n",
    "**Exercise for part 3**: Use the code below to test what value of `n_neighbors` works best for the given data. *Note: do NOT change the metric to be anything other than `'euclidean'`. Other distance functions are not optimized for the amount of data we are working with.* **Question for part 3**: What is the accuracy of the best classifier you can create for this data (by changing only the `n_neighbors` parameter)? "
   ]
  },
  {
   "cell_type": "code",
   "execution_count": 3,
   "metadata": {},
   "outputs": [
    {
     "name": "stdout",
     "output_type": "stream",
     "text": [
      "Accuracy of classifier is: 0.500972246774\n"
     ]
    }
   ],
   "source": [
    "from sklearn.cross_validation import StratifiedShuffleSplit\n",
    "from sklearn.neighbors import KNeighborsClassifier\n",
    "from sklearn.metrics import accuracy_score\n",
    "\n",
    "cv = StratifiedShuffleSplit(ds.target, n_iter = 1, test_size = 0.5, train_size=0.5)\n",
    "\n",
    "for trainidx, testidx in cv:\n",
    "    # note that these are sparse matrices\n",
    "    X_train = ds.data[trainidx] \n",
    "    X_test = ds.data[testidx] \n",
    "    y_train = ds.target[trainidx]\n",
    "    y_test = ds.target[testidx]\n",
    "\n",
    "clf = KNeighborsClassifier(n_neighbors=5, weights='uniform', metric='euclidean')\n",
    "\n",
    "# fill in your code here\n",
    "clf.fit(X_train, y_train)\n",
    "y_hat = clf.predict(X_test)\n",
    "\n",
    "print 'Accuracy of classifier is:', accuracy_score(y_test,y_hat)"
   ]
  },
  {
   "cell_type": "markdown",
   "metadata": {},
   "source": [
    "**Question for part 3**: With sparse data, does the use of a KDTree representation make sense? Why or Why not?"
   ]
  },
  {
   "cell_type": "markdown",
   "metadata": {},
   "source": [
    "Enter your answer below:\n",
    "\n",
    "*Double Click to edit*\n",
    "\n",
    "*Not usually because the cost of measuring distance with truly sparse data is small--usually smaller than the cost of creating a tree. Sparse data also will not branch well in a KDTree because there are so many zeros. The number of \"zero\" comparisons will mean each tree needs to be very deep. Therefore the benefit of the KDTree is drastically reduced.*"
   ]
  },
  {
   "cell_type": "markdown",
   "metadata": {
    "collapsed": true
   },
   "source": [
    "_____\n",
    "## KNN extensions - Centroids\n",
    "Now lets look at a very closely related classifier to KNN, called nearest centroid. In this classifier (which is more appropriate for big data scenarios and sparse data), the training step is used to calculate the centroids for each class. These centroids are saved. Unknown attributes, at prediction time, only need to have distances calculated for each saved centroid, drastically decreasing the time required for a prediction. **Exercise for part 4**: Use the template code below to create a nearest centroid classifier. Test which metric has the best performance: Euclidean, Cosine, or Manhattan. In `scikit-learn` you can see the documentation for NearestCentroid here: \n",
    "- http://scikit-learn.org/stable/modules/generated/sklearn.neighbors.NearestCentroid.html#sklearn.neighbors.NearestCentroid\n",
    "\n",
    "and for supported distance metrics here:\n",
    "- http://scikit-learn.org/stable/modules/generated/sklearn.metrics.pairwise.distance_metrics.html#sklearn.metrics.pairwise.distance_metrics"
   ]
  },
  {
   "cell_type": "code",
   "execution_count": 4,
   "metadata": {},
   "outputs": [
    {
     "name": "stdout",
     "output_type": "stream",
     "text": [
      "Accuracy of l1 is: 0.346119851511\n",
      "Accuracy of l2 is: 0.410641682871\n",
      "Accuracy of cosine is: 0.489658829768\n",
      "The best distance metric is:  Cosine\n"
     ]
    },
    {
     "name": "stderr",
     "output_type": "stream",
     "text": [
      "/Library/Python/2.7/site-packages/sklearn/neighbors/nearest_centroid.py:136: UserWarning: Averaging for metrics other than euclidean and manhattan not supported. The average is set to be the mean.\n",
      "  warnings.warn(\"Averaging for metrics other than \"\n"
     ]
    }
   ],
   "source": [
    "from sklearn.neighbors.nearest_centroid import NearestCentroid\n",
    "\n",
    "# the parameters for the nearest centroid metric to test are:\n",
    "#    l1, l2, and cosine (all are optimized)\n",
    "clf = NearestCentroid(metric='euclidean')\n",
    "\n",
    "# fill in your code here\n",
    "for d in ['l1','l2','cosine']:\n",
    "    clf = NearestCentroid(metric=d)\n",
    "    clf.fit(X_train, y_train)\n",
    "    y_hat = clf.predict(X_test)\n",
    "    print 'Accuracy of', d,'is:', accuracy_score(y_test,y_hat)\n",
    "\n",
    "print 'The best distance metric is: ', 'Cosine'"
   ]
  },
  {
   "cell_type": "markdown",
   "metadata": {},
   "source": [
    "___\n",
    "## Naive Bayes Classification\n",
    "Now let's look at the use of the Naive Bayes classifier. The 20 newsgroups dataset has 20 classes and about 130,000 features. Recall that the Naive Bayes classifer calculates a posterior distribution for each possible class. Each posterior distribution is a multiplication of many conditional distributions. **Question for part 5**: With this many classes and features, how many different conditional probabilities need to be parameterized? How many priors need to be modeled?"
   ]
  },
  {
   "cell_type": "markdown",
   "metadata": {},
   "source": [
    "Enter you answer here:\n",
    "\n",
    "*Double Click to edit*\n",
    "\n",
    "*The number of features is 130,107 and the number of classes is 20. The total conditionals is the multiplication of these, or roughly 2.6 million. There are 20 priors, one for each class. *"
   ]
  },
  {
   "cell_type": "code",
   "execution_count": 5,
   "metadata": {},
   "outputs": [
    {
     "name": "stdout",
     "output_type": "stream",
     "text": [
      "130107.0 20.0 2602140.0\n"
     ]
    }
   ],
   "source": [
    "# Use this space for any calculations you might want to do\n",
    "\n",
    "n_features = float(ds.data.shape[1])\n",
    "n_classes = float(len(ds.target_names))\n",
    "\n",
    "print n_features, n_classes, n_features*n_classes"
   ]
  },
  {
   "cell_type": "markdown",
   "metadata": {},
   "source": [
    "___\n",
    "## Naive Bayes in Scikit-learn\n",
    "Scikit has several implementations of the Naive Bayes classifier: `GaussianNB`, `MultinomialNB`, and `BernoulliNB`. Look at the documentation here: http://scikit-learn.org/stable/modules/naive_bayes.html Take a look at each implementation and then answer this question: **Question for part 6**: If my instances contain continuous attributes, would it be better to use Gaussian Naive Bayes, Multinomial Naive Bayes, or Bernoulli? And Why? What if the data is sparse, does this change your answer? Why or Why not?"
   ]
  },
  {
   "cell_type": "markdown",
   "metadata": {},
   "source": [
    "Enter you answer here:\n",
    "\n",
    "*Double Click to edit*\n",
    "\n",
    "*It is probably better to use Gaussian as long as the number of examples is large because the continuous data can be characterized more easily. However, sparse matrices are much harder to find realistic Gaussian models for because they always have a mean near zero. For sparse data, it is probably better (and faster) to use multinomial naive Bayes. An argument can also be made for Bernoulli if binarizing the feature data helps to reduce the complexity of the problem.*\n",
    "___"
   ]
  },
  {
   "cell_type": "markdown",
   "metadata": {},
   "source": [
    "## Naive Bayes Comparison\n",
    "For the final section of this notebook let's compare the performance of Naive Bayes for document classification. Look at the parameters for `MultinomialNB`, and `BernoulliNB` (especially `alpha` and `binarize`). **Exercise for part 7**: Using the example code below, change the parameters for each classifier and see how accurate you can make the classifiers on the test set. **Question for part 7**: Why are these implementations so fast to train? What does the 'alpha' value control in these models (*i.e.*, how does it change the learned models)? "
   ]
  },
  {
   "cell_type": "code",
   "execution_count": 12,
   "metadata": {},
   "outputs": [
    {
     "name": "stdout",
     "output_type": "stream",
     "text": [
      "Accuracy of classifier is: 0.886689057804\n",
      "Accuracy of classifier is: 0.871840197985\n",
      "These classifiers are simply counting instances and values, \n",
      "which can be done extremely effectively for sparse matrices of data\n",
      "The alpha values are controlling the smoothing parameter for never allowing\n",
      "a class-value pair to have zero probability. This is called smoothing.\n"
     ]
    }
   ],
   "source": [
    "from sklearn.naive_bayes import MultinomialNB\n",
    "from sklearn.naive_bayes import BernoulliNB\n",
    "\n",
    "\n",
    "clf_mnb = MultinomialNB(alpha=0.001)\n",
    "clf_bnb = BernoulliNB(alpha=0.001, binarize=0.02)\n",
    "\n",
    "# fill in your code here\n",
    "for clf in [clf_mnb,clf_bnb]:\n",
    "    clf.fit(X_train, y_train)\n",
    "    y_hat = clf.predict(X_test)\n",
    "    print 'Accuracy of classifier is:', accuracy_score(y_test,y_hat)\n",
    "            \n",
    "print 'These classifiers are simply counting instances and values, '\n",
    "print 'which can be done extremely effectively for sparse matrices of data'\n",
    "print 'The alpha values are controlling the smoothing parameter for never allowing'\n",
    "print 'a class-value pair to have zero probability. This is called smoothing.'\n"
   ]
  },
  {
   "cell_type": "code",
   "execution_count": null,
   "metadata": {
    "collapsed": true
   },
   "outputs": [],
   "source": []
  }
 ],
 "metadata": {
  "kernelspec": {
   "display_name": "Python 3",
   "language": "python",
   "name": "python3"
  },
  "language_info": {
   "codemirror_mode": {
    "name": "ipython",
    "version": 3
   },
   "file_extension": ".py",
   "mimetype": "text/x-python",
   "name": "python",
   "nbconvert_exporter": "python",
   "pygments_lexer": "ipython3",
   "version": "3.7.3"
  }
 },
 "nbformat": 4,
 "nbformat_minor": 1
}
