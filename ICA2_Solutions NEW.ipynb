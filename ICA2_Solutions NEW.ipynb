{
 "cells": [
  {
   "cell_type": "markdown",
   "metadata": {},
   "source": [
    "\n",
    "Enter Team Member Names here (double click to edit):\n",
    "\n",
    "- Name 1:\n",
    "- Name 2:\n",
    "- Name 3:\n",
    "\n",
    "________\n",
    "\n",
    "# In Class Assignment Two\n",
    "In the following assignment you will be asked to fill in python code and derivations for a number of different problems. Please read all instructions carefully and turn in the rendered notebook (or HTML of the rendered notebook) before the end of class.\n",
    "\n",
    "________________________________________________________________________________________________________\n",
    "\n",
    "## Loading the Classification Data\n",
    "Please run the following code to read in the \"digits\" dataset from sklearn's data loading module."
   ]
  },
  {
   "cell_type": "code",
   "execution_count": 2,
   "metadata": {},
   "outputs": [
    {
     "name": "stdout",
     "output_type": "stream",
     "text": [
      "features shape: (1797, 64)\n",
      "target shape: (1797,)\n",
      "range of target: 0 9\n"
     ]
    }
   ],
   "source": [
    "from sklearn.datasets import load_digits\n",
    "import numpy as np\n",
    "\n",
    "ds = load_digits()\n",
    "\n",
    "# this holds the continuous feature data\n",
    "print ('features shape:', ds.data.shape) # there are 1797 instances and 64 features per instance\n",
    "print ('target shape:', ds.target.shape) \n",
    "print ('range of target:', np.min(ds.target),np.max(ds.target))"
   ]
  },
  {
   "cell_type": "markdown",
   "metadata": {},
   "source": [
    "________________________________________________________________________________________________________\n",
    "\n",
    "## Using Decision Trees\n",
    "In the videos, we talked about the splitting conditions for different attributes. Specifically, we discussed the number of ways in which it is possible to split a node, depending on the attribute types. To understand the possible splits, we need to understand the attributes. You might find the description in the `ds['DESCR']` field to be useful. You can see the field using `print ds['DESCR'] `\n",
    "\n",
    "**Question 1:** For the digits dataset, what are the type(s) of the attributes? How many attributes are there? What do they represent?\n"
   ]
  },
  {
   "cell_type": "code",
   "execution_count": 4,
   "metadata": {},
   "outputs": [
    {
     "name": "stdout",
     "output_type": "stream",
     "text": [
      "Optical Recognition of Handwritten Digits Data Set\n",
      "===================================================\n",
      "\n",
      "Notes\n",
      "-----\n",
      "Data Set Characteristics:\n",
      "    :Number of Instances: 5620\n",
      "    :Number of Attributes: 64\n",
      "    :Attribute Information: 8x8 image of integer pixels in the range 0..16.\n",
      "    :Missing Attribute Values: None\n",
      "    :Creator: E. Alpaydin (alpaydin '@' boun.edu.tr)\n",
      "    :Date: July; 1998\n",
      "\n",
      "This is a copy of the test set of the UCI ML hand-written digits datasets\n",
      "http://archive.ics.uci.edu/ml/datasets/Optical+Recognition+of+Handwritten+Digits\n",
      "\n",
      "The data set contains images of hand-written digits: 10 classes where\n",
      "each class refers to a digit.\n",
      "\n",
      "Preprocessing programs made available by NIST were used to extract\n",
      "normalized bitmaps of handwritten digits from a preprinted form. From a\n",
      "total of 43 people, 30 contributed to the training set and different 13\n",
      "to the test set. 32x32 bitmaps are divided into nonoverlapping blocks of\n",
      "4x4 and the number of on pixels are counted in each block. This generates\n",
      "an input matrix of 8x8 where each element is an integer in the range\n",
      "0..16. This reduces dimensionality and gives invariance to small\n",
      "distortions.\n",
      "\n",
      "For info on NIST preprocessing routines, see M. D. Garris, J. L. Blue, G.\n",
      "T. Candela, D. L. Dimmick, J. Geist, P. J. Grother, S. A. Janet, and C.\n",
      "L. Wilson, NIST Form-Based Handprint Recognition System, NISTIR 5469,\n",
      "1994.\n",
      "\n",
      "References\n",
      "----------\n",
      "  - C. Kaynak (1995) Methods of Combining Multiple Classifiers and Their\n",
      "    Applications to Handwritten Digit Recognition, MSc Thesis, Institute of\n",
      "    Graduate Studies in Science and Engineering, Bogazici University.\n",
      "  - E. Alpaydin, C. Kaynak (1998) Cascading Classifiers, Kybernetika.\n",
      "  - Ken Tang and Ponnuthurai N. Suganthan and Xi Yao and A. Kai Qin.\n",
      "    Linear dimensionalityreduction using relevance weighted LDA. School of\n",
      "    Electrical and Electronic Engineering Nanyang Technological University.\n",
      "    2005.\n",
      "  - Claudio Gentile. A New Approximate Maximal Margin Classification\n",
      "    Algorithm. NIPS. 2000.\n",
      "\n"
     ]
    }
   ],
   "source": [
    "## Enter your comments here\n",
    "\n",
    "print ds['DESCR']\n",
    "# Each attribute is a pixel from an 8x8 pixel array. They are images of handwritten digits. \n",
    "# The features are each pixel location in the 8x8 grid, thus there are 64 of them. The pixels are encoded as \n",
    "# 16 bit data, but are best considered as continuous attributes because they can take on many\n",
    "# distinct values. \n",
    "\n",
    "## Enter comments here"
   ]
  },
  {
   "cell_type": "markdown",
   "metadata": {},
   "source": [
    "___\n",
    "## Using the gini coefficient\n",
    "We talked about the gini index in the videos.  The gini coefficient for a given split is given by:\n",
    "$$Gini=\\sum_{t=1}^T \\frac{n_t}{N}gini(t)$$\n",
    "where $T$ is the total number splits (2 for binary), $n_t$ is the number of instances in node $t$ after splitting, and $N$ is the total number of instances in the parent node. $gini(t)$ is the gini index for the resulting node and is given by:\n",
    "$$gini(t)=1-\\sum_{j=0}^{C-1} p(j|t)^2$$\n",
    "where $C$ is the total number of possible classes and $p(j|t)$ is the count of instances belonging to class $j$ in node $t$, normalized by the total number of instances in node $t$ (i.e., the probability of the class in node $t$).\n",
    "\n",
    "For the given dataset, $gini(t)$ has been programmed for you in the function `gini_index`. To use the function, pass in an array of the classes for a given node and the gini will be returned. In the example below, the function is used calculate the gini for splitting the dataset on feature 28, with value 2.5. First all the target classes in a split are calculated using `ds.target[feature28>2.5]` and those classes are passed into the function to get the gini for the going right in the tree. Then the gini is calculated for going left in the tree. "
   ]
  },
  {
   "cell_type": "code",
   "execution_count": 2,
   "metadata": {},
   "outputs": [
    {
     "name": "stdout",
     "output_type": "stream",
     "text": [
      "gini for right node of split: 0.884585786767\n",
      "gini for left node of split: 0.711540756654\n"
     ]
    }
   ],
   "source": [
    "# compute the gini of several examples for the starting dataset\n",
    "\n",
    "def gini_index(classes_in_split):\n",
    "    # pay no attention to this code -- it just computes the gini for a given split \n",
    "    classes_in_split = np.reshape(classes_in_split,(len(classes_in_split),-1))\n",
    "    unique_classes = np.unique(classes_in_split)\n",
    "    gini = 1\n",
    "    for c in unique_classes:\n",
    "        gini -= (np.sum(classes_in_split==c) / float(len(classes_in_split)))**2\n",
    "        \n",
    "    return gini\n",
    "    \n",
    "# get the value for this feature as a column vector \n",
    "# (this is like grabbing one column of the record table)\n",
    "feature28 = ds.data[:,28]\n",
    "\n",
    "# if we split on the value of 2.5, then this is the gini for each resulting node:\n",
    "gini_r = gini_index(ds.target[feature28>2.5])\n",
    "gini_l = gini_index(ds.target[feature28<=2.5])\n",
    "\n",
    "# compute gini example. This splits on attribute '28' with a value of 2.5\n",
    "print 'gini for right node of split:', gini_r\n",
    "print 'gini for left node of split:', gini_l"
   ]
  },
  {
   "cell_type": "markdown",
   "metadata": {},
   "source": [
    "**Question 2:** Now, using the above values `gini_r` and `gini_l`. Calculate the combined Gini for the entire split. You will need to write the weighted summation (based upon the number of instances inside each node). To count the number of instances greater than a value using numpy, you can write `sum(some_array>5)` where `some_array` is an array of values and we want to now how many are greater than `5`."
   ]
  },
  {
   "cell_type": "code",
   "execution_count": 3,
   "metadata": {},
   "outputs": [
    {
     "name": "stdout",
     "output_type": "stream",
     "text": [
      "('total gini is:', 0.84616343450451792)\n"
     ]
    }
   ],
   "source": [
    "## Enter your code here\n",
    "\n",
    "# we need to make a weighted sum of the gini indices\n",
    "num_instances_r = float(sum(feature28>2.5))\n",
    "num_instances_l = float(sum(feature28<=2.5))\n",
    "N = float(len(ds.target))\n",
    "\n",
    "gini_total = (num_instances_r*gini_r + num_instances_l*gini_l) / N\n",
    "\n",
    "print ('total gini is:', gini_total)\n",
    "\n",
    "## Enter your code here"
   ]
  },
  {
   "cell_type": "markdown",
   "metadata": {},
   "source": [
    "___\n",
    "**Question 3:** Now we want to know which is a better split, `feature28 -> 2.5` or `feature28 -> 10`.  Enter your code to find the total gini of splitting on the threshold of 10 and compare it to the threshold for 2.5 for feature 28 (saved to variable `feature28`). According to gini, which threshold is better, 2.5 or 10.0?"
   ]
  },
  {
   "cell_type": "code",
   "execution_count": 4,
   "metadata": {},
   "outputs": [
    {
     "name": "stdout",
     "output_type": "stream",
     "text": [
      "total gini for new threshold of 10.0 is: 0.863611174323\n",
      "This is larger than our previous gini and lower is better. Therefore, 2.5 is more optimal.\n"
     ]
    }
   ],
   "source": [
    "# Enter your code here\n",
    "\n",
    "# we need to make a weighted sum of the gini indices\n",
    "T = 10\n",
    "num_instances_r = sum(feature28>T)\n",
    "num_instances_l = sum(feature28<=T)\n",
    "\n",
    "gini_total = (num_instances_r*gini_index(ds.target[feature28>T]) + \n",
    "              num_instances_l*gini_index(ds.target[feature28<=T])) / float(len(ds.target))\n",
    "\n",
    "print 'total gini for new threshold of 10.0 is:', gini_total\n",
    "print 'This is larger than our previous gini and lower is better. Therefore, 2.5 is more optimal.'\n",
    "\n",
    "# Enter your code here"
   ]
  },
  {
   "cell_type": "markdown",
   "metadata": {},
   "source": [
    "___\n",
    "## Entropy based splitting\n",
    "We discussed entropy as well in the video as another means of splitting. We calculated entropy for a node $t$ by:\n",
    "$$ Entropy(t) = -\\sum p(j|t) \\log p(j|t) $$\n",
    "where $p(j|t)$ is the same as above. To combine Entropy measures from a set of nodes, t = {1,...,T} we use: \n",
    "$$Entropy_{Total}=\\sum_{t=1}^T \\frac{n_t}{N}Entropy(t)$$ \n",
    "and information gain is calculated by subtracting the Entropy of the parent, with the Entropy of the split. You are given an equation for calculating the $Entropy(t)$ of  node $t$. It works exactly like the `gini_index` function above, but is named `entropy_value`. "
   ]
  },
  {
   "cell_type": "code",
   "execution_count": 5,
   "metadata": {},
   "outputs": [
    {
     "name": "stdout",
     "output_type": "stream",
     "text": [
      "entropy for right of split: 2.18369753782\n",
      "entropy for left of split: 1.48988814128\n"
     ]
    }
   ],
   "source": [
    "def entropy_value(classes_in_split):\n",
    "    # pay no attention to this code -- it just computes the gini for a given split \n",
    "    classes_in_split = np.reshape(classes_in_split,(len(classes_in_split),-1))\n",
    "    unique_classes = np.unique(classes_in_split)\n",
    "    ent = 0\n",
    "    for c in unique_classes:\n",
    "        p = (np.sum(classes_in_split==c) / float(len(classes_in_split)))\n",
    "        ent += p * np.log(p)\n",
    "        \n",
    "    return -ent\n",
    "\n",
    "ent_r = entropy_value(ds.target[feature28>2.5])\n",
    "ent_l = entropy_value(ds.target[feature28<=2.5])\n",
    "\n",
    "# compute entropy example. This splits on attribute '28' with a value of 2.5\n",
    "print 'entropy for right of split:', ent_r\n",
    "print 'entropy for left of split:', ent_l"
   ]
  },
  {
   "cell_type": "markdown",
   "metadata": {},
   "source": [
    "___\n",
    "**Question 4:** Calculate the information gain of the split when the threshold is 2.5 on `feature28`. What is the value of the information gain?"
   ]
  },
  {
   "cell_type": "code",
   "execution_count": 6,
   "metadata": {},
   "outputs": [
    {
     "name": "stdout",
     "output_type": "stream",
     "text": [
      "Information gain is: 0.272832851327\n"
     ]
    }
   ],
   "source": [
    "# Enter your code here\n",
    "\n",
    "# we need to make a weighted sum of the gini indices\n",
    "T = 2.5\n",
    "num_instances_r = sum(feature28>T)\n",
    "num_instances_l = sum(feature28<=T)\n",
    "\n",
    "ent2_5 = entropy_value(ds.target) - (num_instances_r*entropy_value(ds.target[feature28>T]) + \n",
    "              num_instances_l*entropy_value(ds.target[feature28<=T])) / float(len(ds.target))\n",
    "\n",
    "print 'Information gain is:', ent2_5\n",
    "\n",
    "# Enter your code here"
   ]
  },
  {
   "cell_type": "markdown",
   "metadata": {},
   "source": [
    "**Question 5:** What is the information gain if the threshold is 10.0 on `feature28`? According to information gain, is it better to split on a threshold of 2.5 or 10? Does entropy give the same decision as gini for this example?"
   ]
  },
  {
   "cell_type": "code",
   "execution_count": 7,
   "metadata": {},
   "outputs": [
    {
     "name": "stdout",
     "output_type": "stream",
     "text": [
      "754\n",
      "1043\n",
      "Information gain is: 0.209551377044\n",
      "The gain is smaller, meaning that the entropy dropped less. The threshold of 2.5 is better!\n",
      "That is the same conclusion as the gini!\n"
     ]
    }
   ],
   "source": [
    "# Enter your code here\n",
    "\n",
    "# we need to make a weighted sum of the gini indices\n",
    "T = 10\n",
    "num_instances_r = sum(feature28>T)\n",
    "num_instances_l = sum(feature28<=T)\n",
    "\n",
    "ent10 = entropy_value(ds.target) - (num_instances_r*entropy_value(ds.target[feature28>T]) + \n",
    "              num_instances_l*entropy_value(ds.target[feature28<=T])) / float(len(ds.target))\n",
    "\n",
    "\n",
    "print num_instances_l\n",
    "print num_instances_r\n",
    "print 'Information gain is:', ent10\n",
    "print 'The gain is smaller, meaning that the entropy dropped less. The threshold of 2.5 is better!'\n",
    "print 'That is the same conclusion as the gini!'\n",
    "\n",
    "# Enter your code here"
   ]
  },
  {
   "cell_type": "markdown",
   "metadata": {},
   "source": [
    "___\n",
    "## Information gain and multi-way splitting\n",
    "Now assume that we can use not just a binary split, but a three way split. \n",
    "\n",
    "**Question 6** What is the information gain if we split feature28 on two thesholds (three separate nodes corresponding to three branches from one node) \n",
    "- node left: `feature28<2.5`, \n",
    "- node middle: `2.5<=feature28<10`, and \n",
    "- node right: `10<=feature28`? \n",
    "\n",
    "Is the information gain better? \n",
    "\n",
    "***Note***: You can index into a numpy array with the following notation: `some_array[(2.5<=feature28) & (feature28<10.0)]`"
   ]
  },
  {
   "cell_type": "code",
   "execution_count": 8,
   "metadata": {},
   "outputs": [
    {
     "name": "stdout",
     "output_type": "stream",
     "text": [
      "Information gain is: 0.31972399967\n",
      "The gain is better! That means the three way split is \"better\" than the two way split.\n",
      "Or does it? We need to normalize by split info!!\n"
     ]
    }
   ],
   "source": [
    "# Enter your code here\n",
    "\n",
    "# we need to make a weighted sum of the gini indices\n",
    "T1 = 2.5\n",
    "T2 = 10\n",
    "num_instances_r = sum(feature28>10)\n",
    "num_instances_l = sum(feature28<=2.5)\n",
    "num_instances_m = len(ds.target) - num_instances_r - num_instances_l\n",
    "# Or you can also calculate it this way!\n",
    "# num_instances_m = sum((T1<feature28) & (feature28<=T2))\n",
    "\n",
    "ent_multi = entropy_value(ds.target) - (num_instances_r*entropy_value(ds.target[feature28>T2]) + \n",
    "              num_instances_l*entropy_value(ds.target[feature28<=T1]) +\n",
    "              num_instances_m*entropy_value(ds.target[(T1<=feature28) & (feature28<T2)])) / float(len(ds.target))\n",
    "\n",
    "print 'Information gain is:', ent_multi\n",
    "print 'The gain is better! That means the three way split is \"better\" than the two way split.'\n",
    "print 'Or does it? We need to normalize by split info!!'\n",
    "\n",
    "# Enter your code here"
   ]
  },
  {
   "cell_type": "markdown",
   "metadata": {},
   "source": [
    "**Question 7**: Should we normalize the quantity that we just calculated if we want to compare it to the information gain of a binary split? Why or Why not?"
   ]
  },
  {
   "cell_type": "code",
   "execution_count": 9,
   "metadata": {},
   "outputs": [
    {
     "name": "stdout",
     "output_type": "stream",
     "text": [
      "gain ratio of multi-split is actually: 0.329517155767\n",
      "gain ratio of 2.5: 0.515290639568\n",
      "That means the 2.5 threshold is still more optimal than the multiway split, once normalized!!\n"
     ]
    }
   ],
   "source": [
    "# Enter your code here\n",
    "\n",
    "# The Short answer is Yes! We need to normalize the value by the split info so that we do not\n",
    "# Always prefer the larger, purer splits.\n",
    "\n",
    "# based on email sent by Prof Jake Drew on 2/15/2018 at Thu, Feb 15, 2018 at 8:51 PM --> benbroc@gmail.com\n",
    "# On question #7 students are not required to write code just mention that they should normalize \n",
    "# to keep the algorithm from favoring the purer, larger splits.\n",
    "\n",
    "# if we normalize by the entropy of the splits we get:\n",
    "tmp_split = np.zeros(ds.target.shape)\n",
    "tmp_split[feature28>T2] = 1\n",
    "tmp_split[feature28<=T1] = 2\n",
    "split_entropy = entropy_value(tmp_split)\n",
    "\n",
    "gain_ratio = ent_multi / split_entropy\n",
    "print 'gain ratio of multi-split is actually:', gain_ratio\n",
    "\n",
    "# gain ratio of 2.5 \n",
    "tmp_split = np.zeros(ds.target.shape)\n",
    "tmp_split[feature28>2.5] = 1\n",
    "gain_ratio_T1 = ent2_5 / entropy_value(tmp_split)\n",
    "print 'gain ratio of 2.5:',  gain_ratio_T1\n",
    "print 'That means the 2.5 threshold is still more optimal than the multiway split, once normalized!!'\n",
    "\n",
    "# Enter your code here"
   ]
  },
  {
   "cell_type": "markdown",
   "metadata": {},
   "source": [
    "___\n",
    "## Decision Trees in scikit-learn\n",
    "Scikit-learn also has an implementation of decision trees. Its available here:\n",
    "- http://scikit-learn.org/stable/modules/generated/sklearn.tree.DecisionTreeClassifier.html#sklearn.tree.DecisionTreeClassifier\n",
    "- http://scikit-learn.org/stable/modules/tree.html#tree\n",
    "\n",
    "**Question 8**: What algorithm does scikit-learn use for creating decision trees (i.e., ID3, C4.5, C5.0, CART, MARS, CHAID, etc.)? "
   ]
  },
  {
   "cell_type": "code",
   "execution_count": 11,
   "metadata": {},
   "outputs": [
    {
     "name": "stdout",
     "output_type": "stream",
     "text": [
      "CART\n"
     ]
    }
   ],
   "source": [
    "# Enter your answer here\n",
    "\n",
    "print 'CART'\n",
    "# http://scikit-learn.org/stable/modules/tree.html\n",
    "\n",
    "# Enter your answer here"
   ]
  },
  {
   "cell_type": "markdown",
   "metadata": {},
   "source": [
    "___\n",
    "**Question 9**: Using the documentation, use scikit-learn to train a decision tree on the digits data. Calculate the accuracy on the training data. What is the accuracy? Did you expect the decision tree to have this kind of accuracy? Why or Why not?"
   ]
  },
  {
   "cell_type": "code",
   "execution_count": 10,
   "metadata": {},
   "outputs": [
    {
     "name": "stdout",
     "output_type": "stream",
     "text": [
      "accuracy: 1.0\n",
      "Decision trees can learn any function, so of course they have perfect accuracy on the training data\n",
      "Its overfit though--we would need a validation set to really test out the accuracy\n"
     ]
    }
   ],
   "source": [
    "# use scikit learn to train a decision tree\n",
    "from sklearn.tree import DecisionTreeClassifier\n",
    "\n",
    "# enter your code below here to train and predict on the same data\n",
    "tr = DecisionTreeClassifier(criterion='gini')\n",
    "tr.fit(ds.data,ds.target)\n",
    "yhat = tr.predict(ds.data)\n",
    "# enter your code above here\n",
    "\n",
    "from sklearn.metrics import accuracy_score \n",
    "\n",
    "# enter your code below here\n",
    "print 'accuracy:', accuracy_score(ds.target,yhat)\n",
    "print 'Decision trees can learn any function, so of course they have perfect accuracy on the training data'\n",
    "print 'Its overfit though--we would need a validation set to really test out the accuracy'\n",
    "# enter your code above here\n"
   ]
  },
  {
   "cell_type": "markdown",
   "metadata": {},
   "source": [
    "___\n",
    "**Question 10**: Look at the other input variables to the function `DecisionTreeClassifier` could any of them be used to help prevent the decision tree from overlearning on the data? Which variables might we use to control overfitting and how (explain each)?"
   ]
  },
  {
   "cell_type": "code",
   "execution_count": 13,
   "metadata": {},
   "outputs": [
    {
     "name": "stdout",
     "output_type": "stream",
     "text": [
      "We could make \"max_depth\" smaller to prevent long branches\n",
      "We could increase \"min_samples_split\" to prevent small boxes forming decision boundaries\n",
      "We could increase the \"min_samples_per_leaf\" to control small boxes forming\n",
      "We could decrease the \"max_leaf_nodes\" to control how many boxes can be formed in feature space\n"
     ]
    }
   ],
   "source": [
    "# Enter your answer here\n",
    "\n",
    "#  Refereence link --> http://scikit-learn.org/stable/modules/generated/sklearn.tree.DecisionTreeClassifier.html\n",
    "#\n",
    "# Here are all the available inputs to the function: \n",
    "# DecisionTreeClassifier(criterion='gini', splitter='best', \n",
    "# max_depth=None, min_samples_split=2, min_samples_leaf=1, max_features=None, \n",
    "# random_state=None, min_density=None, max_leaf_nodes=None)¶\n",
    "\n",
    "print 'We could make \"max_depth\" smaller to prevent long branches'\n",
    "print 'We could increase \"min_samples_split\" to prevent small boxes forming decision boundaries'\n",
    "print 'We could increase the \"min_samples_per_leaf\" to control small boxes forming'\n",
    "print 'We could decrease the \"max_leaf_nodes\" to control how many boxes can be formed in feature space'\n",
    "\n",
    "\n",
    "# Enter your answer here"
   ]
  },
  {
   "cell_type": "markdown",
   "metadata": {},
   "source": [
    "________________________________________________________________________________________________________\n",
    "\n",
    "That's all! Please **upload your rendered ** and please include **team member names** in the notebook submission."
   ]
  },
  {
   "cell_type": "code",
   "execution_count": null,
   "metadata": {
    "collapsed": true
   },
   "outputs": [],
   "source": []
  }
 ],
 "metadata": {
  "kernelspec": {
   "display_name": "Python 3",
   "language": "python",
   "name": "python3"
  },
  "language_info": {
   "codemirror_mode": {
    "name": "ipython",
    "version": 3
   },
   "file_extension": ".py",
   "mimetype": "text/x-python",
   "name": "python",
   "nbconvert_exporter": "python",
   "pygments_lexer": "ipython3",
   "version": "3.7.3"
  }
 },
 "nbformat": 4,
 "nbformat_minor": 1
}
